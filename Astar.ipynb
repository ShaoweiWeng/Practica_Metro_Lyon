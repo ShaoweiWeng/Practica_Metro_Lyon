{
 "cells": [
  {
   "cell_type": "code",
   "execution_count": 65,
   "metadata": {},
   "outputs": [],
   "source": [
    "import igraph \n",
    "from igraph import* \n",
    "import csv\n",
    "from geopy.distance import geodesic \n",
    "import time;"
   ]
  },
  {
   "cell_type": "code",
   "execution_count": null,
   "metadata": {},
   "outputs": [],
   "source": [
    "\n"
   ]
  },
  {
   "cell_type": "markdown",
   "metadata": {},
   "source": [
    "#-.-.-.-.-.-.-OBTENER ESTACIONES (vertices del grafo) DE CSV-.-.-.-.-.-.-"
   ]
  },
  {
   "cell_type": "code",
   "execution_count": 66,
   "metadata": {},
   "outputs": [],
   "source": [
    "heuristica={}"
   ]
  },
  {
   "cell_type": "code",
   "execution_count": 67,
   "metadata": {},
   "outputs": [],
   "source": [
    "with open('estaciones.csv', mode='r') as file:\n",
    "    # Crea un lector CSV\n",
    "    reader = csv.reader(file)\n",
    "    \n",
    "    # Salta la primera fila que contiene los encabezados\n",
    "    next(reader)\n",
    "    \n",
    "    # Inicializa una lista para almacenar los valores de la columna de estaciones\n",
    "    nombre = []\n",
    "    coordenada = {}\n",
    "    # Itera a traves de las filas del archivo CSV\n",
    "    for row in reader:\n",
    "        # Agrega el valor de la columna \"Estacion\" a la lista\n",
    "        nombre.append(row[1])\n",
    "        x = (float)(row[3]) # Coordenadas X\n",
    "        y = (float)(row[4]) # Coordenadas Y\n",
    "        coordenada.update({row[1]:[x,y]})"
   ]
  },
  {
   "cell_type": "markdown",
   "metadata": {},
   "source": [
    "#-.-.-.-.-.-.-OBTENER ARISTAS Y PESOS(conexiones entre estaciones) DE CSV-.-.-.-.-.-.-"
   ]
  },
  {
   "cell_type": "code",
   "execution_count": 68,
   "metadata": {},
   "outputs": [],
   "source": [
    "with open('aristas.csv', mode='r') as file:\n",
    "    # Crea un lector CSV\n",
    "    reader = csv.reader(file)\n",
    "    \n",
    "    # Salta la primera fila que contiene los encabezados\n",
    "    next(reader)\n",
    "    \n",
    "    # Inicializa una lista para almacenar las aristas y pesos\n",
    "    aristas = []\n",
    "    pesos = []\n",
    "\n",
    "    # Itera a traves de las filas del archivo CSV\n",
    "    for i, row in enumerate(reader):\n",
    "        for j, valor in enumerate(row[1:]):  # Empezamos desde la columna 1 para omitir la primera columna\n",
    "            if( i<= j): # Si no se ha llegado aun a la diagonal principal (Queremos evitar aristas repetidas)\n",
    "                if valor != \"0\":\n",
    "                    pesos.append(float(valor))\n",
    "                    aristas.append((i, j))"
   ]
  },
  {
   "cell_type": "code",
   "execution_count": 69,
   "metadata": {},
   "outputs": [],
   "source": [
    "def calculoHeuristica(destino):\n",
    "    destinoX = coordenada.get(destino)[0]\n",
    "    destinoY = coordenada.get(destino)[1]\n",
    "    for origen in coordenada:\n",
    "        origenX = coordenada.get(origen)[0]\n",
    "        origenY = coordenada.get(origen)[1]\n",
    "        distanciaLineaRecta = geodesic((destinoX,destinoY),(origenX,origenY)).km\n",
    "        heuristica.update({origen:distanciaLineaRecta})\n"
   ]
  },
  {
   "cell_type": "markdown",
   "metadata": {},
   "source": [
    "#-.-.-.-.-.-.-PREPARAR GRAFO-.-.-.-.-.-.-"
   ]
  },
  {
   "cell_type": "code",
   "execution_count": 83,
   "metadata": {},
   "outputs": [
    {
     "name": "stdout",
     "output_type": "stream",
     "text": [
      "[(0, 1), (1, 2), (2, 3), (2, 30), (2, 31), (3, 4), (4, 5), (4, 26), (5, 6), (6, 7), (7, 8), (7, 14), (8, 9), (9, 10), (10, 11), (11, 12), (12, 13), (14, 15), (15, 16), (16, 17), (17, 18), (17, 31), (17, 32), (18, 19), (19, 20), (20, 21), (21, 22), (23, 24), (24, 25), (25, 26), (27, 28), (28, 29), (29, 30), (32, 33), (33, 34), (34, 35), (35, 36), (36, 37), (37, 38), (38, 39)]\n",
      "['Perrache', 'Ampere Victor Hugo', 'Bellecour', 'Cordeliers', 'Hotel de Ville Louis Pradel', 'Foch', 'Massena', 'Charpennes Charles Hernu', 'Republique Villeurbanne', 'Gratte-Ciel', 'Flachet', 'Cusset', 'Laurent Bonnebay Astroballe', 'Vaulx-en-Velin La Sole', 'Brotteaux', 'Gare Part-Dieu V.Merle', 'Place Guichard B', 'Saxe-Gambetta', 'Jean Macé', 'Place Jean Jaures', 'Debourg', 'Stade de Gerland', 'Oullins Gare', 'Cuire', 'Henon', 'Croix-Rousse', 'Croix-Paquet', 'Gare de Valse', 'Valmy', 'Gorge de Loup', 'Vieux Lyeon Cathedrale St.Jean', 'Guillotiere', 'Garibaldi', 'Sans-Souci', 'Monplaisir-Lumiere', 'Grange Blanche', 'Laennec', 'Mermoz Pinel', 'Parilly', 'Gare de Venissieux']\n",
      "IGRAPH UN-- 40 40 --\n",
      "+ attr: title (g), name (v), pesos (e)\n",
      "+ edges (vertex names):\n",
      "Perrache--Ampere Victor Hugo, Ampere Victor Hugo--Bellecour,\n",
      "Bellecour--Cordeliers, Bellecour--Vieux Lyeon Cathedrale St.Jean,\n",
      "Bellecour--Guillotiere, Cordeliers--Hotel de Ville Louis Pradel, Hotel de\n",
      "Ville Louis Pradel--Foch, Hotel de Ville Louis Pradel--Croix-Paquet,\n",
      "Foch--Massena, Massena--Charpennes Charles Hernu, Charpennes Charles\n",
      "Hernu--Republique Villeurbanne, Charpennes Charles Hernu--Brotteaux,\n",
      "Republique Villeurbanne--Gratte-Ciel, Gratte-Ciel--Flachet, Flachet--Cusset,\n",
      "Cusset--Laurent Bonnebay Astroballe, Laurent Bonnebay\n",
      "Astroballe--Vaulx-en-Velin La Sole, Brotteaux--Gare Part-Dieu V.Merle, Gare\n",
      "Part-Dieu V.Merle--Place Guichard B, Place Guichard B--Saxe-Gambetta,\n",
      "Saxe-Gambetta--Jean Macé, Saxe-Gambetta--Guillotiere,\n",
      "Saxe-Gambetta--Garibaldi, Jean Macé--Place Jean Jaures, Place Jean\n",
      "Jaures--Debourg, Debourg--Stade de Gerland, Stade de Gerland--Oullins Gare,\n",
      "Cuire--Henon, Henon--Croix-Rousse, Croix-Rousse--Croix-Paquet, Gare de\n",
      "Valse--Valmy, Valmy--Gorge de Loup, Gorge de Loup--Vieux Lyeon Cathedrale\n",
      "St.Jean, Garibaldi--Sans-Souci, Sans-Souci--Monplaisir-Lumiere,\n",
      "Monplaisir-Lumiere--Grange Blanche, Grange Blanche--Laennec, Laennec--Mermoz\n",
      "Pinel, Mermoz Pinel--Parilly, Parilly--Gare de Venissieux\n"
     ]
    }
   ],
   "source": [
    "n_vertices = 40\n",
    "print(aristas)\n",
    "grafo = igraph.Graph(n_vertices, aristas)   # Creamos grafo\n",
    "grafo[\"title\"] = \"Metro de Lyon\" # Titulo del grafo\n",
    "grafo.vs[\"name\"] = nombre   # Nombre de los nodos\n",
    "grafo.es[\"pesos\"] = pesos   # Pesos de las aristas\n",
    "#print(grafo.vs[\"name\"])\n",
    "#print(grafo)"
   ]
  },
  {
   "cell_type": "markdown",
   "metadata": {},
   "source": [
    "#-.-.-.-.-.-.-ALGORITMO ASTAR-.-.-.-.-.-.-"
   ]
  },
  {
   "cell_type": "code",
   "execution_count": 84,
   "metadata": {},
   "outputs": [],
   "source": [
    "class Nodo:     \n",
    "    def __init__(self, estacion, g = 0, h = 0):  \n",
    "        self.estacion = estacion     #el propio nodo\n",
    "        self.padre = None          #nodo padre\n",
    "        self.g = g                 #valor g\n",
    "        self.h = h                 #valor h\n",
    "        self.f = 0             #valor f\n",
    "  "
   ]
  },
  {
   "cell_type": "code",
   "execution_count": 127,
   "metadata": {},
   "outputs": [
    {
     "name": "stdout",
     "output_type": "stream",
     "text": [
      "Saxe-Gambetta\n",
      "Guillotiere\n",
      "Bellecour\n",
      "Cordeliers\n",
      "Hotel de Ville Louis Pradel\n",
      "Croix-Paquet\n",
      "Croix-Rousse\n",
      "Henon\n",
      "coste de distancia es 15.6km\n"
     ]
    }
   ],
   "source": [
    "# inicialización de variable\n",
    "estacioInicio = grafo.vs.find(\"Saxe-Gambetta\")\n",
    "estacionDestino = grafo.vs.find(\"Henon\")\n",
    "coste = 0\n",
    "calculoHeuristica(estacionDestino[\"name\"])\n",
    "listaNodoAbierto = {}\n",
    "listaNodoCerrado = {}\n",
    "ruta = []\n",
    "nodoInicio = Nodo(estacioInicio)\n",
    "nodoDestino = Nodo(estacionDestino)\n",
    "nodoActual = nodoInicio\n",
    "listaNodoAbierto.update({estacioInicio[\"name\"]:nodoActual})\n",
    "\n",
    "while(listaNodoAbierto):\n",
    "   # seleccionar el nodo con f menor y elimian de la lista abierto añadir en la lista cerrado\n",
    "   nodoActual = getNodoMinimo(listaNodoAbierto)\n",
    "   listaNodoCerrado.update({nodoActual.estacion[\"name\"]:nodoActual})\n",
    "   del listaNodoAbierto[nodoActual.estacion[\"name\"]]\n",
    "   explorarVecino(grafo,heuristica,listaNodoAbierto,listaNodoCerrado,nodoActual)\n",
    "   nodo = hayDestinoEnListaNodoAbierto(listaNodoAbierto,estacionDestino)\n",
    "   \n",
    "   while nodo != None:\n",
    "      ruta.append(nodo.estacion[\"name\"])\n",
    "      coste = coste + nodo.g\n",
    "      nodo = nodo.padre\n",
    "      listaNodoAbierto={}\n",
    "\n",
    "\n",
    "for estacion in  reversed(ruta):\n",
    "   print(estacion)\n",
    "print(\"coste de distancia es {:.1f}km\".format(coste))"
   ]
  },
  {
   "cell_type": "code",
   "execution_count": 104,
   "metadata": {},
   "outputs": [],
   "source": [
    "def hayDestinoEnListaNodoAbierto(listaNodoAbierto,estacionDestino):\n",
    "    for estacion in listaNodoAbierto:\n",
    "        nodo = listaNodoAbierto.get(estacion)\n",
    "        if nodo.estacion == estacionDestino:\n",
    "            return nodo\n",
    "    return None"
   ]
  },
  {
   "cell_type": "code",
   "execution_count": 86,
   "metadata": {},
   "outputs": [],
   "source": [
    "#metodo que devuelve un nodo con f menor en la lista de nodo abierto \n",
    "def getNodoMinimo(listaNodoAbierto):\n",
    "    menor = 11111111111\n",
    "    for estacion in listaNodoAbierto:\n",
    "        nodo = listaNodoAbierto.get(estacion)  \n",
    "        if nodo.f < menor:  \n",
    "            nodoMenor = nodo\n",
    "            menor =  nodo.f \n",
    "        return nodoMenor"
   ]
  },
  {
   "cell_type": "code",
   "execution_count": 95,
   "metadata": {},
   "outputs": [],
   "source": [
    "#exploral todos los nodos vecino de nodo actual y calcuar la f \n",
    "def explorarVecino(grafo:igraph,heuristica,listaNodoAbierto,listaNodoCerrado,nodoActual):\n",
    "    verticeVecino = nodoActual.estacion.neighbors()\n",
    "    for estacion in verticeVecino:\n",
    "      \n",
    "        if estacion[\"name\"] in listaNodoCerrado:\n",
    "            continue\n",
    "        nodo = Nodo(estacion)\n",
    "        indiceArista = grafo.get_eid(nodoActual.estacion,estacion)\n",
    "        peso = grafo.es[indiceArista][\"pesos\"]\n",
    "        g = peso + nodoActual.g\n",
    "        h = heuristica.get(estacion[\"name\"])\n",
    "        f = g+h\n",
    "        nodo.g = g\n",
    "        nodo.h = h\n",
    "        nodo.f = f\n",
    "        nodo.padre = nodoActual\n",
    "\n",
    "        if estacion in listaNodoAbierto:\n",
    "            nodoAux = listaNodoAbierto.get(estacion[\"name\"])\n",
    "            if nodo.f < nodoAux.f:\n",
    "                listaNodoAbierto.update({estacion[\"name\"]:nodo})\n",
    "        else:\n",
    "             listaNodoAbierto.update({estacion[\"name\"]:nodo})"
   ]
  }
 ],
 "metadata": {
  "kernelspec": {
   "display_name": "Python 3",
   "language": "python",
   "name": "python3"
  },
  "language_info": {
   "codemirror_mode": {
    "name": "ipython",
    "version": 3
   },
   "file_extension": ".py",
   "mimetype": "text/x-python",
   "name": "python",
   "nbconvert_exporter": "python",
   "pygments_lexer": "ipython3",
   "version": "3.10.12"
  }
 },
 "nbformat": 4,
 "nbformat_minor": 2
}
