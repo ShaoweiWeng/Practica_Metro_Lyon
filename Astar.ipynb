{
 "cells": [
  {
   "cell_type": "code",
   "execution_count": 12,
   "metadata": {},
   "outputs": [],
   "source": [
    "import igraph \n",
    "from igraph import* \n",
    "import csv\n",
    "from geopy.distance import geodesic \n",
    "import time;\n",
    "import tkinter as tk\n",
    "from matplotlib.backends.backend_tkagg import FigureCanvasTkAgg\n",
    "from matplotlib.figure import Figure"
   ]
  },
  {
   "cell_type": "markdown",
   "metadata": {},
   "source": [
    "#-.-.-.-.-.-.-OBTENER ESTACIONES (vertices del grafo) DE CSV-.-.-.-.-.-.-"
   ]
  },
  {
   "cell_type": "code",
   "execution_count": 13,
   "metadata": {},
   "outputs": [],
   "source": [
    "heuristica={}"
   ]
  },
  {
   "cell_type": "code",
   "execution_count": 14,
   "metadata": {},
   "outputs": [],
   "source": [
    "with open('estaciones.csv', mode='r') as file:\n",
    "    # Crea un lector CSV\n",
    "    reader = csv.reader(file)\n",
    "    \n",
    "    # Salta la primera fila que contiene los encabezados\n",
    "    next(reader)\n",
    "    \n",
    "    # Inicializa una lista para almacenar los valores de la columna de estaciones\n",
    "    nombre = []\n",
    "    coordenada = {}\n",
    "    # Itera a traves de las filas del archivo CSV\n",
    "    for row in reader:\n",
    "        # Agrega el valor de la columna \"Estacion\" a la lista\n",
    "        nombre.append(row[1])\n",
    "        x = (float)(row[3]) # Coordenadas X\n",
    "        y = (float)(row[4]) # Coordenadas Y\n",
    "        coordenada.update({row[1]:[x,y]})"
   ]
  },
  {
   "cell_type": "markdown",
   "metadata": {},
   "source": [
    "#-.-.-.-.-.-.-OBTENER ARISTAS Y PESOS(conexiones entre estaciones) DE CSV-.-.-.-.-.-.-"
   ]
  },
  {
   "cell_type": "code",
   "execution_count": 15,
   "metadata": {},
   "outputs": [],
   "source": [
    "with open('aristas.csv', mode='r') as file:\n",
    "    # Crea un lector CSV\n",
    "    reader = csv.reader(file)\n",
    "    \n",
    "    # Salta la primera fila que contiene los encabezados\n",
    "    next(reader)\n",
    "    \n",
    "    # Inicializa una lista para almacenar las aristas y pesos\n",
    "    aristas = []\n",
    "    pesos = []\n",
    "\n",
    "    # Itera a traves de las filas del archivo CSV\n",
    "    for i, row in enumerate(reader):\n",
    "        for j, valor in enumerate(row[1:]):  # Empezamos desde la columna 1 para omitir la primera columna\n",
    "            if( i<= j): # Si no se ha llegado aun a la diagonal principal (Queremos evitar aristas repetidas)\n",
    "                if valor != \"0\":\n",
    "                    pesos.append(float(valor))\n",
    "                    aristas.append((i, j))"
   ]
  },
  {
   "cell_type": "code",
   "execution_count": 16,
   "metadata": {},
   "outputs": [],
   "source": [
    "def calculoHeuristica(destino):\n",
    "    destinoX = coordenada.get(destino)[0]\n",
    "    destinoY = coordenada.get(destino)[1]\n",
    "    for origen in coordenada:\n",
    "        origenX = coordenada.get(origen)[0]\n",
    "        origenY = coordenada.get(origen)[1]\n",
    "        distanciaLineaRecta = geodesic((destinoX,destinoY),(origenX,origenY)).km\n",
    "        heuristica.update({origen:distanciaLineaRecta})"
   ]
  },
  {
   "cell_type": "markdown",
   "metadata": {},
   "source": [
    "#-.-.-.-.-.-.-PREPARAR GRAFO-.-.-.-.-.-.-"
   ]
  },
  {
   "cell_type": "code",
   "execution_count": 17,
   "metadata": {},
   "outputs": [
    {
     "name": "stdout",
     "output_type": "stream",
     "text": [
      "[(0, 1), (1, 2), (2, 3), (2, 30), (2, 31), (3, 4), (4, 5), (4, 26), (5, 6), (6, 7), (7, 8), (7, 14), (8, 9), (9, 10), (10, 11), (11, 12), (12, 13), (14, 15), (15, 16), (16, 17), (17, 18), (17, 31), (17, 32), (18, 19), (19, 20), (20, 21), (21, 22), (23, 24), (24, 25), (25, 26), (27, 28), (28, 29), (29, 30), (32, 33), (33, 34), (34, 35), (35, 36), (36, 37), (37, 38), (38, 39)]\n"
     ]
    }
   ],
   "source": [
    "n_vertices = 40\n",
    "print(aristas)\n",
    "grafo = igraph.Graph(n_vertices, aristas)   # Creamos grafo\n",
    "grafo[\"title\"] = \"Metro de Lyon\" # Titulo del grafo\n",
    "grafo.vs[\"name\"] = nombre   # Nombre de los nodos\n",
    "grafo.es[\"pesos\"] = pesos   # Pesos de las arista\n",
    "grafo.vs[\"color\"] = ['red','red','red','red','red','red','red', 'red','red','red','red','red','red','red','red', 'red', 'red','red','red','red','red','red','red', 'red', 'red','red','red','red','red','red','red', 'red', 'red','red','red','red','red','red','red', 'red', 'red','red','red','red','red','red','red', 'red']\n",
    "grafo.vs[\"label\"] = nombre\n",
    "grafo.vs[\"size\"] = 70\n",
    "grafo.vs[\"label_dist\"] = 1.5\n",
    "grafo.vs[\"label_size\"] = 20\n",
    "\n",
    "#print(grafo.vs[\"name\"])\n",
    "#print(grafo)"
   ]
  },
  {
   "cell_type": "markdown",
   "metadata": {},
   "source": [
    "#-.-.-.-.-.-.-ALGORITMO ASTAR-.-.-.-.-.-.-"
   ]
  },
  {
   "cell_type": "code",
   "execution_count": 18,
   "metadata": {},
   "outputs": [],
   "source": [
    "class Nodo:     \n",
    "    def __init__(self, estacion, g = 0, h = 0):  \n",
    "        self.estacion = estacion     #el propio nodo\n",
    "        self.padre = None          #nodo padre\n",
    "        self.g = g                 #valor g\n",
    "        self.h = h                 #valor h\n",
    "        self.f = 0                 #valor f\n",
    "  "
   ]
  },
  {
   "cell_type": "code",
   "execution_count": 19,
   "metadata": {},
   "outputs": [
    {
     "name": "stdout",
     "output_type": "stream",
     "text": [
      "Foch\n",
      "2.2580954554690167\n",
      "0\n",
      "0\n",
      "----------\n"
     ]
    },
    {
     "ename": "NameError",
     "evalue": "name 'explorarVecino' is not defined",
     "output_type": "error",
     "traceback": [
      "\u001b[0;31m---------------------------------------------------------------------------\u001b[0m",
      "\u001b[0;31mNameError\u001b[0m                                 Traceback (most recent call last)",
      "\u001b[1;32m/Users/shaoweiweng/Desktop/IA/Practica_Metro_Lyon/Astar.ipynb Celda 12\u001b[0m line \u001b[0;36m1\n\u001b[0;32m----> <a href='vscode-notebook-cell:/Users/shaoweiweng/Desktop/IA/Practica_Metro_Lyon/Astar.ipynb#X55sZmlsZQ%3D%3D?line=0'>1</a>\u001b[0m algoritmoAStar(\u001b[39m\"\u001b[39;49m\u001b[39mFoch\u001b[39;49m\u001b[39m\"\u001b[39;49m,\u001b[39m\"\u001b[39;49m\u001b[39mCuire\u001b[39;49m\u001b[39m\"\u001b[39;49m)\n",
      "\u001b[1;32m/Users/shaoweiweng/Desktop/IA/Practica_Metro_Lyon/Astar.ipynb Celda 12\u001b[0m line \u001b[0;36m3\n\u001b[1;32m     <a href='vscode-notebook-cell:/Users/shaoweiweng/Desktop/IA/Practica_Metro_Lyon/Astar.ipynb#X55sZmlsZQ%3D%3D?line=31'>32</a>\u001b[0m       listaNodoCerrado\u001b[39m.\u001b[39mupdate({nodoActual\u001b[39m.\u001b[39mestacion[\u001b[39m\"\u001b[39m\u001b[39mname\u001b[39m\u001b[39m\"\u001b[39m]:nodoActual})\n\u001b[1;32m     <a href='vscode-notebook-cell:/Users/shaoweiweng/Desktop/IA/Practica_Metro_Lyon/Astar.ipynb#X55sZmlsZQ%3D%3D?line=32'>33</a>\u001b[0m       \u001b[39mdel\u001b[39;00m listaNodoAbierto[nodoActual\u001b[39m.\u001b[39mestacion[\u001b[39m\"\u001b[39m\u001b[39mname\u001b[39m\u001b[39m\"\u001b[39m]]\n\u001b[0;32m---> <a href='vscode-notebook-cell:/Users/shaoweiweng/Desktop/IA/Practica_Metro_Lyon/Astar.ipynb#X55sZmlsZQ%3D%3D?line=33'>34</a>\u001b[0m       explorarVecino(grafo,heuristica,listaNodoAbierto,listaNodoCerrado,nodoActual)\n\u001b[1;32m     <a href='vscode-notebook-cell:/Users/shaoweiweng/Desktop/IA/Practica_Metro_Lyon/Astar.ipynb#X55sZmlsZQ%3D%3D?line=34'>35</a>\u001b[0m       nodoActual \u001b[39m=\u001b[39m getNodoMinimo(listaNodoAbierto)\n\u001b[1;32m     <a href='vscode-notebook-cell:/Users/shaoweiweng/Desktop/IA/Practica_Metro_Lyon/Astar.ipynb#X55sZmlsZQ%3D%3D?line=36'>37</a>\u001b[0m \u001b[39mfor\u001b[39;00m estacion \u001b[39min\u001b[39;00m \u001b[39mreversed\u001b[39m(ruta):\n",
      "\u001b[0;31mNameError\u001b[0m: name 'explorarVecino' is not defined"
     ]
    }
   ],
   "source": [
    "algoritmoAStar(\"Foch\",\"Cuire\")"
   ]
  },
  {
   "cell_type": "code",
   "execution_count": null,
   "metadata": {},
   "outputs": [],
   "source": [
    "def algoritmoAStar(Inicio,Destino):\n",
    "   # inicialización de variable\n",
    "   estacioInicio = grafo.vs.find(Inicio)\n",
    "   estacionDestino = grafo.vs.find(Destino)\n",
    "   coste = 0\n",
    "   calculoHeuristica(estacionDestino[\"name\"])\n",
    "   listaNodoAbierto = {}\n",
    "   listaNodoCerrado = {}\n",
    "   ruta = []\n",
    "   nodoInicio = Nodo(estacioInicio)\n",
    "   nodoDestino = Nodo(estacionDestino)\n",
    "   nodoActual = nodoInicio\n",
    "   nodoActual.f = heuristica.get(Inicio)\n",
    "   listaNodoAbierto.update({estacioInicio[\"name\"]:nodoActual})\n",
    "   \n",
    "   while(listaNodoAbierto):\n",
    "   # seleccionar el nodo con f menor y elimian de la lista abierto añadir en la lista cerrado\n",
    "      print(nodoActual.estacion[\"name\"])\n",
    "      print(nodoActual.f)\n",
    "      print(nodoActual.g)\n",
    "      print(nodoActual.h)\n",
    "      print(\"----------\")\n",
    "      if nodoActual.estacion == nodoDestino.estacion:\n",
    "         coste = nodoActual.f\n",
    "         ruta.append(nodoActual.estacion[\"name\"])\n",
    "         nodo = nodoActual.padre\n",
    "         while(nodo):\n",
    "            ruta.append(nodo.estacion[\"name\"])\n",
    "            nodo = nodo.padre\n",
    "         listaNodoAbierto = {}\n",
    "      else:\n",
    "         listaNodoCerrado.update({nodoActual.estacion[\"name\"]:nodoActual})\n",
    "         del listaNodoAbierto[nodoActual.estacion[\"name\"]]\n",
    "         explorarVecino(grafo,heuristica,listaNodoAbierto,listaNodoCerrado,nodoActual)\n",
    "         nodoActual = getNodoMinimo(listaNodoAbierto)\n",
    "\n",
    "   for estacion in reversed(ruta):\n",
    "      print(estacion)\n",
    "   print(\"coste de distancia es {:.1f}km\".format(coste))"
   ]
  },
  {
   "cell_type": "code",
   "execution_count": 21,
   "metadata": {},
   "outputs": [],
   "source": [
    "#metodo que devuelve un nodo con f menor en la lista de nodo abierto \n",
    "def getNodoMinimo(listaNodoAbierto):\n",
    "    menor = 11111111111\n",
    "    for estacion in listaNodoAbierto:\n",
    "        nodo = listaNodoAbierto.get(estacion)  \n",
    "        if nodo.f < menor:  \n",
    "            nodoMenor = nodo\n",
    "            menor =  nodo.f \n",
    "    return nodoMenor"
   ]
  },
  {
   "cell_type": "code",
   "execution_count": 22,
   "metadata": {},
   "outputs": [],
   "source": [
    "#exploral todos los nodos vecino de nodo actual y calcuar la f \n",
    "def explorarVecino(grafo:igraph,heuristica,listaNodoAbierto,listaNodoCerrado,nodoActual):\n",
    "    verticeVecino = nodoActual.estacion.neighbors()\n",
    "    for estacion in verticeVecino:\n",
    "      \n",
    "        if estacion[\"name\"] in listaNodoCerrado:\n",
    "            continue\n",
    "        nodo = Nodo(estacion)\n",
    "        indiceArista = grafo.get_eid(nodoActual.estacion,estacion)\n",
    "        peso = grafo.es[indiceArista][\"pesos\"]\n",
    "        g = peso + nodoActual.g\n",
    "        h = heuristica.get(estacion[\"name\"])\n",
    "        f = g+h\n",
    "        nodo.g = g\n",
    "        nodo.h = h\n",
    "        nodo.f = f\n",
    "        nodo.padre = nodoActual\n",
    "\n",
    "        if estacion in listaNodoAbierto:\n",
    "            nodoAux = listaNodoAbierto.get(estacion[\"name\"])\n",
    "            if nodo.f < nodoAux.f:\n",
    "                listaNodoAbierto.update({estacion[\"name\"]:nodo})\n",
    "        else:\n",
    "             listaNodoAbierto.update({estacion[\"name\"]:nodo})"
   ]
  },
  {
   "cell_type": "code",
   "execution_count": null,
   "metadata": {},
   "outputs": [],
   "source": [
    "#algoritmoAStar()\n",
    "igraph.plot(grafo, bbox=(0, 0, 2500, 2500))"
   ]
  },
  {
   "cell_type": "code",
   "execution_count": 24,
   "metadata": {},
   "outputs": [
    {
     "name": "stderr",
     "output_type": "stream",
     "text": [
      "2023-12-06 12:39:53.399 Python[33967:1380655] TSM AdjustCapsLockLEDForKeyTransitionHandling - _ISSetPhysicalKeyboardCapsLockLED Inhibit\n"
     ]
    },
    {
     "name": "stdout",
     "output_type": "stream",
     "text": [
      "Foch\n",
      "2.2580954554690167\n",
      "0\n",
      "0\n",
      "----------\n",
      "Hotel de Ville Louis Pradel\n",
      "2.7775542285448314\n",
      "0.7\n",
      "2.077554228544831\n",
      "----------\n",
      "Croix-Paquet\n",
      "2.788845893090006\n",
      "1.1\n",
      "1.688845893090006\n",
      "----------\n",
      "Croix-Rousse\n",
      "2.8960223922448964\n",
      "1.6\n",
      "1.2960223922448966\n",
      "----------\n",
      "Henon\n",
      "3.2966199633026476\n",
      "2.3\n",
      "0.9966199633026478\n",
      "----------\n",
      "Cuire\n",
      "3.0999999999999996\n",
      "3.0999999999999996\n",
      "0.0\n",
      "----------\n",
      "Foch\n",
      "Hotel de Ville Louis Pradel\n",
      "Croix-Paquet\n",
      "Croix-Rousse\n",
      "Henon\n",
      "Cuire\n",
      "coste de distancia es 3.1km\n"
     ]
    }
   ],
   "source": [
    "app = tk.Tk()\n",
    "origen = tk.StringVar(app)\n",
    "destino = tk.StringVar(app) \n",
    "\n",
    "def boton():\n",
    "    inicio = origen.get()\n",
    "    final = destino.get()\n",
    "    algoritmoAStar(inicio, final)\n",
    "\n",
    "app.geometry(\"1920x1080\")\n",
    "app.configure(background=\"black\")\n",
    "tk.Wm.wm_title(app,\"A*\")\n",
    "tk.Button(app,\n",
    "          text=\"Click Me!\",\n",
    "          font=(\"Courier\", 14),\n",
    "          bg=\"#00a8e8\",\n",
    "          fg=\"blue\",\n",
    "          command=boton,\n",
    "          height=2,\n",
    "          width=15 \n",
    ").pack()\n",
    "\n",
    "figura = Figure(figsize=(8, 8))\n",
    "\n",
    "# Obtener el subplot de la figura\n",
    "subplot = figura.add_subplot(111)\n",
    "\n",
    "# Visualizar el grafo en el subplot\n",
    "igraph.plot(grafo, target=subplot, bbox=(0, 0, 200, 200))\n",
    "\n",
    "# Crear el lienzo de Matplotlib para integrarlo en la interfaz de Tkinter\n",
    "canvas = FigureCanvasTkAgg(figura, master=app)\n",
    "canvas.draw()\n",
    "\n",
    "# Colocar el lienzo en la ventana principal\n",
    "canvas.get_tk_widget().pack(side=tk.TOP, fill=tk.BOTH, expand=1)\n",
    "\n",
    "tk.Label(app, text=\"ORIGEN:\").pack(side=tk.LEFT)\n",
    "\n",
    "tk.Entry(app,\n",
    "    fg=\"blue\",\n",
    "    bg=\"white\",\n",
    "    justify=\"center\",\n",
    "    textvariable=origen\n",
    ").pack(side=tk.LEFT)\n",
    "\n",
    "tk.Label(app, text=\"DESTINO:\").pack(side=tk.LEFT)\n",
    "\n",
    "tk.Entry(app,\n",
    "    fg=\"blue\",\n",
    "    bg=\"white\",\n",
    "    justify=\"center\",\n",
    "    textvariable=destino\n",
    ").pack(side=tk.LEFT)\n",
    "\n",
    "\n",
    "app.mainloop()\n"
   ]
  }
 ],
 "metadata": {
  "kernelspec": {
   "display_name": "Python 3",
   "language": "python",
   "name": "python3"
  },
  "language_info": {
   "codemirror_mode": {
    "name": "ipython",
    "version": 3
   },
   "file_extension": ".py",
   "mimetype": "text/x-python",
   "name": "python",
   "nbconvert_exporter": "python",
   "pygments_lexer": "ipython3",
   "version": "3.12.0"
  }
 },
 "nbformat": 4,
 "nbformat_minor": 2
}
