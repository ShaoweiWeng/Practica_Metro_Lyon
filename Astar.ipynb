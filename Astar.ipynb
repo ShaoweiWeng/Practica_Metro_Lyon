{
 "cells": [
  {
   "cell_type": "code",
   "execution_count": null,
   "metadata": {},
   "outputs": [],
   "source": [
    "import igraph \n",
    "from igraph import* \n",
    "import csv\n",
    "from geopy.distance import geodesic "
   ]
  },
  {
   "cell_type": "markdown",
   "metadata": {},
   "source": [
    "#-.-.-.-.-.-.-OBTENER ESTACIONES (vertices del grafo) DE CSV-.-.-.-.-.-.-"
   ]
  },
  {
   "cell_type": "code",
   "execution_count": null,
   "metadata": {},
   "outputs": [],
   "source": [
    "heuristica={}"
   ]
  },
  {
   "cell_type": "code",
   "execution_count": null,
   "metadata": {},
   "outputs": [],
   "source": [
    "with open('estaciones.csv', mode='r') as file:\n",
    "    # Crea un lector CSV\n",
    "    reader = csv.reader(file)\n",
    "    \n",
    "    # Salta la primera fila que contiene los encabezados\n",
    "    next(reader)\n",
    "    \n",
    "    # Inicializa una lista para almacenar los valores de la columna de estaciones\n",
    "    nombre = []\n",
    "    coordenada = {}\n",
    "    # Itera a traves de las filas del archivo CSV\n",
    "    for row in reader:\n",
    "        # Agrega el valor de la columna \"Estacion\" a la lista\n",
    "        nombre.append(row[1])\n",
    "        x = (float)(row[3]) # Coordenadas X\n",
    "        y = (float)(row[4]) # Coordenadas Y\n",
    "        coordenada.update({row[1]:[x,y]})"
   ]
  },
  {
   "cell_type": "markdown",
   "metadata": {},
   "source": [
    "#-.-.-.-.-.-.-OBTENER ARISTAS Y PESOS(conexiones entre estaciones) DE CSV-.-.-.-.-.-.-"
   ]
  },
  {
   "cell_type": "code",
   "execution_count": null,
   "metadata": {},
   "outputs": [],
   "source": [
    "with open('aristas.csv', mode='r') as file:\n",
    "    # Crea un lector CSV\n",
    "    reader = csv.reader(file)\n",
    "    \n",
    "    # Salta la primera fila que contiene los encabezados\n",
    "    next(reader)\n",
    "    \n",
    "    # Inicializa una lista para almacenar las aristas y pesos\n",
    "    aristas = []\n",
    "    pesos = []\n",
    "\n",
    "    # Itera a traves de las filas del archivo CSV\n",
    "    for i, row in enumerate(reader):\n",
    "        for j, valor in enumerate(row[1:]):  # Empezamos desde la columna 1 para omitir la primera columna\n",
    "            if( i<= j): # Si no se ha llegado aun a la diagonal principal (Queremos evitar aristas repetidas)\n",
    "                if valor != \"0\":\n",
    "                    pesos.append(float(valor))\n",
    "                    aristas.append((i, j))"
   ]
  },
  {
   "cell_type": "code",
   "execution_count": null,
   "metadata": {},
   "outputs": [],
   "source": [
    "def calculo(destino):\n",
    "    destinoX = coordenada.get(destino)[0]\n",
    "    destinoY = coordenada.get(destino)[1]\n",
    "    for origen in coordenada:\n",
    "        origenX = coordenada.get(origen)[0]\n",
    "        origenY = coordenada.get(origen)[1]\n",
    "        distanciaLineaRecta = geodesic((destinoX,destinoY),(origenX,origenY)).km\n",
    "        heuristica.update({origen:distanciaLineaRecta})\n"
   ]
  },
  {
   "cell_type": "markdown",
   "metadata": {},
   "source": [
    "#-.-.-.-.-.-.-PREPARAR GRAFO-.-.-.-.-.-.-"
   ]
  },
  {
   "cell_type": "code",
   "execution_count": null,
   "metadata": {},
   "outputs": [],
   "source": [
    "n_vertices = 40\n",
    "print(aristas)\n",
    "g = igraph.Graph(n_vertices, aristas)   # Creamos grafo\n",
    "g[\"title\"] = \"Metro de Lyon\" # Titulo del grafo\n",
    "g.vs[\"name\"] = nombre   # Nombre de los nodos\n",
    "g.es[\"pesos\"] = pesos   # Pesos de las aristas\n",
    "print(g.vs[\"name\"])\n",
    "print(g)"
   ]
  },
  {
   "cell_type": "code",
   "execution_count": null,
   "metadata": {},
   "outputs": [],
   "source": [
    "calculo(\"Charpennes Charles Hernu\")\n",
    "for origen in heuristica:\n",
    "    print(heuristica.get(origen))"
   ]
  },
  {
   "cell_type": "markdown",
   "metadata": {},
   "source": [
    "#-.-.-.-.-.-.-ALGORITMO ASTAR-.-.-.-.-.-.-"
   ]
  },
  {
   "cell_type": "code",
   "execution_count": null,
   "metadata": {},
   "outputs": [],
   "source": []
  }
 ],
 "metadata": {
  "kernelspec": {
   "display_name": "Python 3",
   "language": "python",
   "name": "python3"
  },
  "language_info": {
   "codemirror_mode": {
    "name": "ipython",
    "version": 3
   },
   "file_extension": ".py",
   "mimetype": "text/x-python",
   "name": "python",
   "nbconvert_exporter": "python",
   "pygments_lexer": "ipython3",
   "version": "3.12.0"
  }
 },
 "nbformat": 4,
 "nbformat_minor": 2
}
